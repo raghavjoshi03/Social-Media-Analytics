{
  "nbformat": 4,
  "nbformat_minor": 0,
  "metadata": {
    "colab": {
      "provenance": [],
      "authorship_tag": "ABX9TyPJi3uR8Gg5wl5hOG46llp5",
      "include_colab_link": true
    },
    "kernelspec": {
      "name": "python3",
      "display_name": "Python 3"
    },
    "language_info": {
      "name": "python"
    }
  },
  "cells": [
    {
      "cell_type": "markdown",
      "metadata": {
        "id": "view-in-github",
        "colab_type": "text"
      },
      "source": [
        "<a href=\"https://colab.research.google.com/github/raghavjoshi03/Social-Media-Analytics/blob/main/SMA_EXPT4.ipynb\" target=\"_parent\"><img src=\"https://colab.research.google.com/assets/colab-badge.svg\" alt=\"Open In Colab\"/></a>"
      ]
    },
    {
      "cell_type": "code",
      "execution_count": 7,
      "metadata": {
        "colab": {
          "base_uri": "https://localhost:8080/"
        },
        "id": "XHtPvmd4XsGs",
        "outputId": "c689f179-7fe6-4f42-de1d-9a566d082808"
      },
      "outputs": [
        {
          "output_type": "stream",
          "name": "stdout",
          "text": [
            "Requirement already satisfied: networkx in /usr/local/lib/python3.11/dist-packages (3.4.2)\n"
          ]
        }
      ],
      "source": [
        "!pip install networkx"
      ]
    },
    {
      "cell_type": "code",
      "source": [
        "import networkx as nx\n",
        "import matplotlib.pyplot as plt\n",
        "\n",
        "#Create an empty graph\n",
        "G = nx.Graph()\n",
        "\n",
        "#Add nodes with optional attributes\n",
        "G.add_node(1, name=\"Node1\")\n",
        "G.add_node(2, name=\"Node2\")\n",
        "G.add_node(3, name=\"Node3\")\n",
        "G.add_node(4, name=\"Node4\")\n",
        "G.add_node(5, name=\"Node5\")\n",
        "G.add_node(6, name=\"Node6\")"
      ],
      "metadata": {
        "id": "2oHjdv6bXyub"
      },
      "execution_count": 11,
      "outputs": []
    },
    {
      "cell_type": "code",
      "source": [
        "G.add_edge(1,2)\n",
        "G.add_edge(1,3)\n",
        "G.add_edge(2,3)\n",
        "G.add_edge(3,4)\n",
        "G.add_edge(4,5)\n",
        "G.add_edge(5,6)\n",
        "\n",
        "print(\"Nodes of the Graph:\", G.nodes())\n",
        "print(\"Edges of the Graph:\", G.edges(data=True))"
      ],
      "metadata": {
        "colab": {
          "base_uri": "https://localhost:8080/"
        },
        "id": "rXleg90jZNBr",
        "outputId": "1874469a-83e0-4d96-ef58-000410101853"
      },
      "execution_count": 13,
      "outputs": [
        {
          "output_type": "stream",
          "name": "stdout",
          "text": [
            "Nodes of the Graph: [1, 2, 3, 4, 5, 6]\n",
            "Edges of the Graph: [(1, 2, {}), (1, 3, {}), (2, 3, {}), (3, 4, {}), (4, 5, {}), (5, 6, {})]\n"
          ]
        }
      ]
    },
    {
      "cell_type": "code",
      "source": [
        "#Visualization of Graph\n",
        "nx.draw(G, with_labels= True, node_color = 'lightblue', node_size = 1000, font_weight = 'bold')\n",
        "plt.show()"
      ],
      "metadata": {
        "colab": {
          "base_uri": "https://localhost:8080/",
          "height": 516
        },
        "id": "_VSRnLsiapWt",
        "outputId": "8018e4a1-093d-4fc1-e464-15fa8e468400"
      },
      "execution_count": 14,
      "outputs": [
        {
          "output_type": "display_data",
          "data": {
            "text/plain": [
              "<Figure size 640x480 with 1 Axes>"
            ],
            "image/png": "[encoded data removed]"
          },
          "metadata": {}
        }
      ]
    },
    {
      "cell_type": "code",
      "source": [
        "#1. Compute the degree centrality\n",
        "degree_centrality = nx.degree_centrality(G)\n",
        "print(\"\\nDegree_Centrality:\")\n",
        "for node, centrality in degree_centrality.items():\n",
        "    print(f\"Node {node}: {centrality}\") # Indented this line by 4 spaces"
      ],
      "metadata": {
        "colab": {
          "base_uri": "https://localhost:8080/"
        },
        "id": "UZh0v7jabyb1",
        "outputId": "6acf60b7-524f-4424-f416-b3e3567d85c1"
      },
      "execution_count": 16,
      "outputs": [
        {
          "output_type": "stream",
          "name": "stdout",
          "text": [
            "\n",
            "Degree_Centrality:\n",
            "Node 1: 0.4\n",
            "Node 2: 0.4\n",
            "Node 3: 0.6000000000000001\n",
            "Node 4: 0.4\n",
            "Node 5: 0.4\n",
            "Node 6: 0.2\n"
          ]
        }
      ]
    },
    {
      "cell_type": "code",
      "source": [
        "# 2. Compute Betweenness Centrality\n",
        "betweenness_centrality = nx.betweenness_centrality(G)\n",
        "print(\"\\nBetweenness Centrality:\")\n",
        "for node, centrality in betweenness_centrality.items():\n",
        "    print(f\"Node {node}: {centrality}\") # Indented by 4 spaces"
      ],
      "metadata": {
        "colab": {
          "base_uri": "https://localhost:8080/"
        },
        "id": "UgFmTuktcnmV",
        "outputId": "fd6993ab-5eb7-4bf4-a0d3-44eaf5d8019d"
      },
      "execution_count": 18,
      "outputs": [
        {
          "output_type": "stream",
          "name": "stdout",
          "text": [
            "\n",
            "Betweenness Centrality:\n",
            "Node 1: 0.0\n",
            "Node 2: 0.0\n",
            "Node 3: 0.6000000000000001\n",
            "Node 4: 0.6000000000000001\n",
            "Node 5: 0.4\n",
            "Node 6: 0.0\n"
          ]
        }
      ]
    },
    {
      "cell_type": "code",
      "source": [],
      "metadata": {
        "id": "H1rYvQhzdsJl"
      },
      "execution_count": null,
      "outputs": []
    }
  ]
}